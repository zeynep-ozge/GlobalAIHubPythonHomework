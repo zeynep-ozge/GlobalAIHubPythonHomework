{
  "nbformat": 4,
  "nbformat_minor": 0,
  "metadata": {
    "colab": {
      "name": "Homework2.ipynb",
      "provenance": [],
      "collapsed_sections": [],
      "authorship_tag": "ABX9TyOaWKLKIfgYH/rdFfIoHKpv",
      "include_colab_link": true
    },
    "kernelspec": {
      "name": "python3",
      "display_name": "Python 3"
    }
  },
  "cells": [
    {
      "cell_type": "markdown",
      "metadata": {
        "id": "view-in-github",
        "colab_type": "text"
      },
      "source": [
        "<a href=\"https://colab.research.google.com/github/zeynep-ozge/pythonhomeworks/blob/main/Homework2.ipynb\" target=\"_parent\"><img src=\"https://colab.research.google.com/assets/colab-badge.svg\" alt=\"Open In Colab\"/></a>"
      ]
    },
    {
      "cell_type": "code",
      "metadata": {
        "colab": {
          "base_uri": "https://localhost:8080/"
        },
        "id": "2QzhuZK2Ad1x",
        "outputId": "f869b8ec-ec20-489b-f47c-ef0ad638d54b"
      },
      "source": [
        "Kullanıcı = input(\"Lütfen Adınızı ve Soyadınızı Giriniz:\")\r\n",
        "print(Kullanıcı)\r\n",
        "KullanıcıYaş = int(input(\"Lütfen Doğum Yılınızı Giriniz:\"))\r\n",
        "print(KullanıcıYaş)\r\n",
        "\r\n",
        "if KullanıcıYaş >= 2002:\r\n",
        "     print(\"Dışarı çıkamazsın. Senin için tehlikeli. \")\r\n",
        "else:\r\n",
        "         print(\"Dışarı çıkabilirsin.\")\r\n",
        "\r\n",
        "k = [Kullanıcı, KullanıcıYaş]\r\n",
        "for i in k :\r\n",
        " print(i)"
      ],
      "execution_count": 19,
      "outputs": [
        {
          "output_type": "stream",
          "text": [
            "Lütfen Adınızı ve Soyadınızı Giriniz:Sengul Ozdemir\n",
            "Sengul Ozdemir\n",
            "Lütfen Doğum Yılınızı Giriniz:1958\n",
            "1958\n",
            "Dışarı çıkabilirsin.\n",
            "Sengul Ozdemir\n",
            "1958\n"
          ],
          "name": "stdout"
        }
      ]
    }
  ]
}