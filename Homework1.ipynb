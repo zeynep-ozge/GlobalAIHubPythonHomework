{
  "nbformat": 4,
  "nbformat_minor": 0,
  "metadata": {
    "colab": {
      "name": "Homework1.ipynb",
      "provenance": [],
      "collapsed_sections": [],
      "authorship_tag": "ABX9TyO9W781WA2MWr+kNuGSHJrJ",
      "include_colab_link": true
    },
    "kernelspec": {
      "name": "python3",
      "display_name": "Python 3"
    }
  },
  "cells": [
    {
      "cell_type": "markdown",
      "metadata": {
        "id": "view-in-github",
        "colab_type": "text"
      },
      "source": [
        "<a href=\"https://colab.research.google.com/github/zeynep-ozge/pythonhomeworks/blob/main/Homework1.ipynb\" target=\"_parent\"><img src=\"https://colab.research.google.com/assets/colab-badge.svg\" alt=\"Open In Colab\"/></a>"
      ]
    },
    {
      "cell_type": "code",
      "metadata": {
        "colab": {
          "base_uri": "https://localhost:8080/"
        },
        "id": "V_D1EfKuzw1h",
        "outputId": "1ad8a8cd-efc6-40f7-d30f-6069eb862640"
      },
      "source": [
        "n = 5\r\n",
        "print(n)\r\n",
        "print(type(n))\r\n",
        "m = 4.6\r\n",
        "print(m)\r\n",
        "print(type(m))\r\n",
        "Merhaba = \"Dünya\"\r\n",
        "print(Merhaba)\r\n",
        "print (\"Dünya\")\r\n",
        "print(type(Merhaba))\r\n",
        "print(type(\"Dünya\"))\r\n",
        "a, b = True, False\r\n",
        "print(a)\r\n",
        "print(b)\r\n",
        "print(type(a))\r\n",
        "print(type(b))\r\n",
        "c= 10\r\n",
        "d= 15 \r\n",
        "c,d =d,c\r\n",
        "print(c)\r\n",
        "print(d)\r\n",
        "#F-string\r\n",
        "name = \"Hoşgeldin\"\r\n",
        "print(f'Merhaba {name}')\r\n",
        "#format\r\n",
        "name2= \"Zeynep\"\r\n",
        "print(\"Selam {}\".format(name2))"
      ],
      "execution_count": 9,
      "outputs": [
        {
          "output_type": "stream",
          "text": [
            "5\n",
            "<class 'int'>\n",
            "4.6\n",
            "<class 'float'>\n",
            "Dünya\n",
            "Dünya\n",
            "<class 'str'>\n",
            "<class 'str'>\n",
            "True\n",
            "False\n",
            "<class 'bool'>\n",
            "<class 'bool'>\n",
            "15\n",
            "10\n",
            "Merhaba Hoşgeldin\n",
            "Selam Zeynep\n"
          ],
          "name": "stdout"
        }
      ]
    }
  ]
}